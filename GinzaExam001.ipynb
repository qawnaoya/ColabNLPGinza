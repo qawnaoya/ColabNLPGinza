{
  "nbformat": 4,
  "nbformat_minor": 0,
  "metadata": {
    "colab": {
      "name": "GinzaExam001.ipynb",
      "provenance": [],
      "authorship_tag": "ABX9TyOvz7MB5jKA7qxSgGrRaUiD",
      "include_colab_link": true
    },
    "kernelspec": {
      "name": "python3",
      "display_name": "Python 3"
    },
    "language_info": {
      "name": "python"
    }
  },
  "cells": [
    {
      "cell_type": "markdown",
      "metadata": {
        "id": "view-in-github",
        "colab_type": "text"
      },
      "source": [
        "<a href=\"https://colab.research.google.com/github/qawnaoya/ColabNLPGinza/blob/main/GinzaExam001.ipynb\" target=\"_parent\"><img src=\"https://colab.research.google.com/assets/colab-badge.svg\" alt=\"Open In Colab\"/></a>"
      ]
    },
    {
      "cell_type": "code",
      "metadata": {
        "colab": {
          "base_uri": "https://localhost:8080/"
        },
        "id": "_IH2kB82R49r",
        "outputId": "71c766af-e479-46ca-fe15-91df9dc8364c"
      },
      "source": [
        "!pip install -U ginza"
      ],
      "execution_count": 1,
      "outputs": [
        {
          "output_type": "stream",
          "text": [
            "Requirement already up-to-date: ginza in /usr/local/lib/python3.7/dist-packages (4.0.5)\n",
            "Requirement already satisfied, skipping upgrade: SudachiDict-core>=20200330; python_version >= \"3.5\" in /usr/local/lib/python3.7/dist-packages (from ginza) (20201223.post1)\n",
            "Requirement already satisfied, skipping upgrade: spacy<3.0.0,>=2.3.2 in /usr/local/lib/python3.7/dist-packages (from ginza) (2.3.5)\n",
            "Requirement already satisfied, skipping upgrade: SudachiPy>=0.4.9; python_version >= \"3.5\" in /usr/local/lib/python3.7/dist-packages (from ginza) (0.5.2)\n",
            "Requirement already satisfied, skipping upgrade: ja-ginza<4.1.0,>=4.0.0 in /usr/local/lib/python3.7/dist-packages (from ginza) (4.0.0)\n",
            "Requirement already satisfied, skipping upgrade: blis<0.8.0,>=0.4.0 in /usr/local/lib/python3.7/dist-packages (from spacy<3.0.0,>=2.3.2->ginza) (0.4.1)\n",
            "Requirement already satisfied, skipping upgrade: cymem<2.1.0,>=2.0.2 in /usr/local/lib/python3.7/dist-packages (from spacy<3.0.0,>=2.3.2->ginza) (2.0.5)\n",
            "Requirement already satisfied, skipping upgrade: tqdm<5.0.0,>=4.38.0 in /usr/local/lib/python3.7/dist-packages (from spacy<3.0.0,>=2.3.2->ginza) (4.41.1)\n",
            "Requirement already satisfied, skipping upgrade: wasabi<1.1.0,>=0.4.0 in /usr/local/lib/python3.7/dist-packages (from spacy<3.0.0,>=2.3.2->ginza) (0.8.2)\n",
            "Requirement already satisfied, skipping upgrade: preshed<3.1.0,>=3.0.2 in /usr/local/lib/python3.7/dist-packages (from spacy<3.0.0,>=2.3.2->ginza) (3.0.5)\n",
            "Requirement already satisfied, skipping upgrade: thinc<7.5.0,>=7.4.1 in /usr/local/lib/python3.7/dist-packages (from spacy<3.0.0,>=2.3.2->ginza) (7.4.5)\n",
            "Requirement already satisfied, skipping upgrade: catalogue<1.1.0,>=0.0.7 in /usr/local/lib/python3.7/dist-packages (from spacy<3.0.0,>=2.3.2->ginza) (1.0.0)\n",
            "Requirement already satisfied, skipping upgrade: srsly<1.1.0,>=1.0.2 in /usr/local/lib/python3.7/dist-packages (from spacy<3.0.0,>=2.3.2->ginza) (1.0.5)\n",
            "Requirement already satisfied, skipping upgrade: numpy>=1.15.0 in /usr/local/lib/python3.7/dist-packages (from spacy<3.0.0,>=2.3.2->ginza) (1.19.5)\n",
            "Requirement already satisfied, skipping upgrade: murmurhash<1.1.0,>=0.28.0 in /usr/local/lib/python3.7/dist-packages (from spacy<3.0.0,>=2.3.2->ginza) (1.0.5)\n",
            "Requirement already satisfied, skipping upgrade: plac<1.2.0,>=0.9.6 in /usr/local/lib/python3.7/dist-packages (from spacy<3.0.0,>=2.3.2->ginza) (1.1.3)\n",
            "Requirement already satisfied, skipping upgrade: setuptools in /usr/local/lib/python3.7/dist-packages (from spacy<3.0.0,>=2.3.2->ginza) (54.1.2)\n",
            "Requirement already satisfied, skipping upgrade: requests<3.0.0,>=2.13.0 in /usr/local/lib/python3.7/dist-packages (from spacy<3.0.0,>=2.3.2->ginza) (2.23.0)\n",
            "Requirement already satisfied, skipping upgrade: sortedcontainers~=2.1.0 in /usr/local/lib/python3.7/dist-packages (from SudachiPy>=0.4.9; python_version >= \"3.5\"->ginza) (2.1.0)\n",
            "Requirement already satisfied, skipping upgrade: dartsclone~=0.9.0 in /usr/local/lib/python3.7/dist-packages (from SudachiPy>=0.4.9; python_version >= \"3.5\"->ginza) (0.9.0)\n",
            "Requirement already satisfied, skipping upgrade: importlib-metadata>=0.20; python_version < \"3.8\" in /usr/local/lib/python3.7/dist-packages (from catalogue<1.1.0,>=0.0.7->spacy<3.0.0,>=2.3.2->ginza) (3.7.2)\n",
            "Requirement already satisfied, skipping upgrade: certifi>=2017.4.17 in /usr/local/lib/python3.7/dist-packages (from requests<3.0.0,>=2.13.0->spacy<3.0.0,>=2.3.2->ginza) (2020.12.5)\n",
            "Requirement already satisfied, skipping upgrade: chardet<4,>=3.0.2 in /usr/local/lib/python3.7/dist-packages (from requests<3.0.0,>=2.13.0->spacy<3.0.0,>=2.3.2->ginza) (3.0.4)\n",
            "Requirement already satisfied, skipping upgrade: idna<3,>=2.5 in /usr/local/lib/python3.7/dist-packages (from requests<3.0.0,>=2.13.0->spacy<3.0.0,>=2.3.2->ginza) (2.10)\n",
            "Requirement already satisfied, skipping upgrade: urllib3!=1.25.0,!=1.25.1,<1.26,>=1.21.1 in /usr/local/lib/python3.7/dist-packages (from requests<3.0.0,>=2.13.0->spacy<3.0.0,>=2.3.2->ginza) (1.24.3)\n",
            "Requirement already satisfied, skipping upgrade: Cython in /usr/local/lib/python3.7/dist-packages (from dartsclone~=0.9.0->SudachiPy>=0.4.9; python_version >= \"3.5\"->ginza) (0.29.22)\n",
            "Requirement already satisfied, skipping upgrade: typing-extensions>=3.6.4; python_version < \"3.8\" in /usr/local/lib/python3.7/dist-packages (from importlib-metadata>=0.20; python_version < \"3.8\"->catalogue<1.1.0,>=0.0.7->spacy<3.0.0,>=2.3.2->ginza) (3.7.4.3)\n",
            "Requirement already satisfied, skipping upgrade: zipp>=0.5 in /usr/local/lib/python3.7/dist-packages (from importlib-metadata>=0.20; python_version < \"3.8\"->catalogue<1.1.0,>=0.0.7->spacy<3.0.0,>=2.3.2->ginza) (3.4.1)\n"
          ],
          "name": "stdout"
        }
      ]
    },
    {
      "cell_type": "code",
      "metadata": {
        "colab": {
          "base_uri": "https://localhost:8080/"
        },
        "id": "4-HlkFnER8FH",
        "outputId": "18ee78cb-2d07-40e9-f6a6-16e5abebb986"
      },
      "source": [
        "# Hacks for Google Colab\n",
        "import pkg_resources, imp\n",
        "imp.reload(pkg_resources)"
      ],
      "execution_count": 2,
      "outputs": [
        {
          "output_type": "execute_result",
          "data": {
            "text/plain": [
              "<module 'pkg_resources' from '/usr/local/lib/python3.7/dist-packages/pkg_resources/__init__.py'>"
            ]
          },
          "metadata": {
            "tags": []
          },
          "execution_count": 2
        }
      ]
    },
    {
      "cell_type": "code",
      "metadata": {
        "colab": {
          "base_uri": "https://localhost:8080/"
        },
        "id": "epEDT2nZRz16",
        "outputId": "e1e1878c-02f0-4a2c-9979-ac0e526d755d"
      },
      "source": [
        "from ginza import *\n",
        "import spacy\n",
        "nlp = spacy.load(\"ja_ginza\")  # GiNZAモデルの読み込み\n",
        "\n",
        "from collections import defaultdict\n",
        "frames = defaultdict(lambda: 0)  # 依存関係の出現頻度を格納\n",
        "sentences = set()  # 重複文検出用のset\n",
        "\n",
        "text = \"貴社の記者が汽車で帰社した。\"\n",
        "doc = nlp(text)\n",
        "\n",
        "for sent in doc.sents:\n",
        "    for token in sent:\n",
        "        print(token.i, token.orth_, token.lemma_, token.pos_, token.tag_, token.dep_, token.head.i)\n",
        "    print('EOS')"
      ],
      "execution_count": 3,
      "outputs": [
        {
          "output_type": "stream",
          "text": [
            "0 貴社 貴社 NOUN 名詞-普通名詞-一般 nmod 2\n",
            "1 の の ADP 助詞-格助詞 case 0\n",
            "2 記者 記者 NOUN 名詞-普通名詞-一般 nsubj 6\n",
            "3 が が ADP 助詞-格助詞 case 2\n",
            "4 汽車 汽車 NOUN 名詞-普通名詞-一般 obl 6\n",
            "5 で で ADP 助詞-格助詞 case 4\n",
            "6 帰社 帰社 VERB 名詞-普通名詞-サ変可能 ROOT 6\n",
            "7 し する AUX 動詞-非自立可能 advcl 6\n",
            "8 た た AUX 助動詞 aux 6\n",
            "9 。 。 PUNCT 補助記号-句点 punct 6\n",
            "EOS\n"
          ],
          "name": "stdout"
        }
      ]
    },
    {
      "cell_type": "code",
      "metadata": {
        "id": "5z32xIcGSamj"
      },
      "source": [
        ""
      ],
      "execution_count": 3,
      "outputs": []
    }
  ]
}